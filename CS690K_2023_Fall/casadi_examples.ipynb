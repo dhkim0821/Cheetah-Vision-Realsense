{
  "cells": [
    {
      "cell_type": "markdown",
      "metadata": {
        "id": "view-in-github",
        "colab_type": "text"
      },
      "source": [
        "<a href=\"https://colab.research.google.com/github/dhkim0821/Cheetah-Vision-Realsense/blob/master/CS690K_2023_Fall/casadi_examples.ipynb\" target=\"_parent\"><img src=\"https://colab.research.google.com/assets/colab-badge.svg\" alt=\"Open In Colab\"/></a>"
      ]
    },
    {
      "cell_type": "markdown",
      "metadata": {
        "id": "IuqwDQx1WCFt"
      },
      "source": [
        "**CASADI Examples**"
      ]
    },
    {
      "cell_type": "code",
      "execution_count": 1,
      "metadata": {
        "colab": {
          "base_uri": "https://localhost:8080/"
        },
        "id": "EyvODgIVESou",
        "outputId": "d0d6df93-ad70-489d-9e29-8ec9dee90d96"
      },
      "outputs": [
        {
          "output_type": "stream",
          "name": "stdout",
          "text": [
            "Requirement already satisfied: sympy in /usr/local/lib/python3.10/dist-packages (1.12)\n",
            "Requirement already satisfied: seaborn in /usr/local/lib/python3.10/dist-packages (0.12.2)\n",
            "Collecting ffmpeg-python\n",
            "  Downloading ffmpeg_python-0.2.0-py3-none-any.whl (25 kB)\n",
            "Collecting qpsolvers\n",
            "  Downloading qpsolvers-4.0.1-py3-none-any.whl (83 kB)\n",
            "\u001b[2K     \u001b[90m━━━━━━━━━━━━━━━━━━━━━━━━━━━━━━━━━━━━━━━━\u001b[0m \u001b[32m83.7/83.7 kB\u001b[0m \u001b[31m3.4 MB/s\u001b[0m eta \u001b[36m0:00:00\u001b[0m\n",
            "\u001b[?25hCollecting casadi\n",
            "  Downloading casadi-3.6.4-cp310-none-manylinux2014_x86_64.whl (75.3 MB)\n",
            "\u001b[2K     \u001b[90m━━━━━━━━━━━━━━━━━━━━━━━━━━━━━━━━━━━━━━━━\u001b[0m \u001b[32m75.3/75.3 MB\u001b[0m \u001b[31m9.9 MB/s\u001b[0m eta \u001b[36m0:00:00\u001b[0m\n",
            "\u001b[?25hRequirement already satisfied: mpmath>=0.19 in /usr/local/lib/python3.10/dist-packages (from sympy) (1.3.0)\n",
            "Requirement already satisfied: numpy!=1.24.0,>=1.17 in /usr/local/lib/python3.10/dist-packages (from seaborn) (1.23.5)\n",
            "Requirement already satisfied: pandas>=0.25 in /usr/local/lib/python3.10/dist-packages (from seaborn) (1.5.3)\n",
            "Requirement already satisfied: matplotlib!=3.6.1,>=3.1 in /usr/local/lib/python3.10/dist-packages (from seaborn) (3.7.1)\n",
            "Requirement already satisfied: future in /usr/local/lib/python3.10/dist-packages (from ffmpeg-python) (0.18.3)\n",
            "Collecting daqp>=0.5.1 (from qpsolvers)\n",
            "  Downloading daqp-0.5.1-cp310-cp310-manylinux_2_17_x86_64.manylinux2014_x86_64.whl (458 kB)\n",
            "\u001b[2K     \u001b[90m━━━━━━━━━━━━━━━━━━━━━━━━━━━━━━━━━━━━━━━━\u001b[0m \u001b[32m459.0/459.0 kB\u001b[0m \u001b[31m34.7 MB/s\u001b[0m eta \u001b[36m0:00:00\u001b[0m\n",
            "\u001b[?25hRequirement already satisfied: ecos>=2.0.8 in /usr/local/lib/python3.10/dist-packages (from qpsolvers) (2.0.12)\n",
            "Requirement already satisfied: osqp>=0.6.2 in /usr/local/lib/python3.10/dist-packages (from qpsolvers) (0.6.2.post8)\n",
            "Requirement already satisfied: scipy>=1.2.0 in /usr/local/lib/python3.10/dist-packages (from qpsolvers) (1.11.3)\n",
            "Requirement already satisfied: scs>=3.2.0 in /usr/local/lib/python3.10/dist-packages (from qpsolvers) (3.2.4)\n",
            "Requirement already satisfied: contourpy>=1.0.1 in /usr/local/lib/python3.10/dist-packages (from matplotlib!=3.6.1,>=3.1->seaborn) (1.2.0)\n",
            "Requirement already satisfied: cycler>=0.10 in /usr/local/lib/python3.10/dist-packages (from matplotlib!=3.6.1,>=3.1->seaborn) (0.12.1)\n",
            "Requirement already satisfied: fonttools>=4.22.0 in /usr/local/lib/python3.10/dist-packages (from matplotlib!=3.6.1,>=3.1->seaborn) (4.44.3)\n",
            "Requirement already satisfied: kiwisolver>=1.0.1 in /usr/local/lib/python3.10/dist-packages (from matplotlib!=3.6.1,>=3.1->seaborn) (1.4.5)\n",
            "Requirement already satisfied: packaging>=20.0 in /usr/local/lib/python3.10/dist-packages (from matplotlib!=3.6.1,>=3.1->seaborn) (23.2)\n",
            "Requirement already satisfied: pillow>=6.2.0 in /usr/local/lib/python3.10/dist-packages (from matplotlib!=3.6.1,>=3.1->seaborn) (9.4.0)\n",
            "Requirement already satisfied: pyparsing>=2.3.1 in /usr/local/lib/python3.10/dist-packages (from matplotlib!=3.6.1,>=3.1->seaborn) (3.1.1)\n",
            "Requirement already satisfied: python-dateutil>=2.7 in /usr/local/lib/python3.10/dist-packages (from matplotlib!=3.6.1,>=3.1->seaborn) (2.8.2)\n",
            "Requirement already satisfied: qdldl in /usr/local/lib/python3.10/dist-packages (from osqp>=0.6.2->qpsolvers) (0.1.7.post0)\n",
            "Requirement already satisfied: pytz>=2020.1 in /usr/local/lib/python3.10/dist-packages (from pandas>=0.25->seaborn) (2023.3.post1)\n",
            "Requirement already satisfied: six>=1.5 in /usr/local/lib/python3.10/dist-packages (from python-dateutil>=2.7->matplotlib!=3.6.1,>=3.1->seaborn) (1.16.0)\n",
            "Installing collected packages: daqp, ffmpeg-python, casadi, qpsolvers\n",
            "Successfully installed casadi-3.6.4 daqp-0.5.1 ffmpeg-python-0.2.0 qpsolvers-4.0.1\n"
          ]
        }
      ],
      "source": [
        "!pip3 install sympy seaborn ffmpeg-python qpsolvers casadi"
      ]
    },
    {
      "cell_type": "code",
      "execution_count": null,
      "metadata": {
        "id": "kI138BjQFKeI"
      },
      "outputs": [],
      "source": [
        "import sympy as sym\n",
        "from sympy import Symbol, simplify, lambdify\n",
        "from sympy.matrices.expressions import transpose\n",
        "from sympy import sin, cos, Matrix\n",
        "import numpy as np\n",
        "from IPython.display import HTML\n",
        "import numpy as np\n",
        "import matplotlib.pyplot as plt\n",
        "import seaborn as sns\n",
        "from matplotlib import animation\n",
        "%matplotlib inline"
      ]
    },
    {
      "cell_type": "markdown",
      "metadata": {
        "id": "nKgJgDXEW4GB"
      },
      "source": [
        "# Declare Symbolic Variables"
      ]
    },
    {
      "cell_type": "code",
      "execution_count": null,
      "metadata": {
        "id": "lbu-PXALJ-It"
      },
      "outputs": [],
      "source": [
        "# Write your code: Symbolic variable definition. Complete the following variable list\n",
        "[m_body, m1, m2, m3, I_body, I1, I2, I3, l0, l1, l2, l3, c1, c2,c3,g] = sym.symbols('M m1 m2 m3 I I1 I2 I3 l0 l1 l2 l3 c1 c2 c3 g')\n",
        "[x, y, thb, th1, th2, th3, dx, dy, dthb, dth1, dth2, dth3, ddx, ddy, ddthb, ddth1, ddth2, ddth3] = sym.symbols('x y thb th1 th2 th3 dx dy dthb dth1 dth2 dth3 ddx ddy ddthb ddth1 ddth2 ddth3')\n",
        "[tau1, tau2, tau3] = sym.symbols('tau1 tau2 tau3')\n",
        "\n",
        "# Symbolic variable groupings: No need to change\n",
        "q  = Matrix([x, y, thb, th1,  th2, th3])\n",
        "dq = Matrix([dx, dy, dthb, dth1, dth2, dth3])\n",
        "ddq= Matrix([ddx, ddy, ddthb, ddth1, ddth2, ddth3])\n",
        "u  = Matrix([tau1, tau2, tau3]) # control input\n",
        "z = Matrix([q.transpose(), dq.transpose()]) # state\n",
        "p   = [m_body, m1, m2, m3, I_body, I1, I2, I3, l0, l1, l2, l3, c1, c2, c3, g]  # parameters\n",
        "\n",
        "zp_params = list(z)+list(p)\n",
        "zup_params = list(z)+list(u)+list(p)\n",
        "\n",
        "# Parameters: No need to change\n",
        "m_body_p  = 3.\n",
        "m1_p = 1.5\n",
        "m2_p = 1.\n",
        "m3_p = 2.0\n",
        "l0_p = .3\n",
        "l1_p = .6\n",
        "l2_p = .6\n",
        "l3_p = .5\n",
        "c1_p = .3\n",
        "c2_p = .2\n",
        "c3_p = .4\n",
        "I_body_p = 0.01\n",
        "I1_p = 0.005\n",
        "I2_p = 0.005\n",
        "I3_p = 0.009\n",
        "g_p  = 9.81\n",
        "\n",
        "params   = [m_body_p, m1_p, m2_p, m3_p, I_body_p, I1_p, I2_p, I3_p, l0_p, l1_p, l2_p, l3_p, c1_p, c2_p, c3_p, g_p]"
      ]
    },
    {
      "cell_type": "code",
      "execution_count": null,
      "metadata": {
        "id": "EFwIphBoHVeS"
      },
      "outputs": [],
      "source": [
        "# Handy functions to be used to compute time derivative and generalized forces: No need to change\n",
        "ddt = lambda x: x.jacobian(q)@dq + x.jacobian(dq)@ddq        # Time derivative\n",
        "F2Q = lambda F, r : simplify(r.jacobian(q).transpose()*F)    # force contributions to generalized forces\n",
        "M2Q = lambda M, w : simplify(w.jacobian(dq).transpose()*M)   # moment contributions to generalized forces"
      ]
    },
    {
      "cell_type": "markdown",
      "metadata": {
        "id": "I3vJmOWpXSKk"
      },
      "source": [
        "# **Kinemeatics**\n",
        "The robot's body angle and joint angles are described in the figure:\n",
        "\n",
        "<img src=\"https://github.com/DARoSLab/Adv_robot_dyn_ctrl/blob/main/Figures/Leg_kin.png?raw=true\" height=\"430\">"
      ]
    },
    {
      "cell_type": "code",
      "execution_count": null,
      "metadata": {
        "id": "GoIlqq_aJFLz"
      },
      "outputs": [],
      "source": [
        "# Kinemeatics\n",
        "r0 = Matrix([x, y])    # position of link 1\n",
        "ehat1 = Matrix([sin(thb), -cos(thb)]) # Define unit vector along Leg 1\n",
        "ehat2 = Matrix([sin(thb+th1), -cos(thb+th1)])  # Define unit vector along Leg 2\n",
        "ehat3 = Matrix([sin(thb+th1+th2), -cos(thb+th1+th2)])  # Define unit vector along Leg 2\n",
        "ehat4 = Matrix([cos(thb+th1+th2+th3), sin(thb+th1+th2+th3)])  # Define unit vector along Leg 2\n",
        "ehat5 = -ehat4  # Define unit vector along Leg 2\n",
        "ghat  = Matrix([0, -1 ])\n",
        "\n",
        "# CoM position and link position\n",
        "rA  = r0 + l0*ehat1          # Position of base of link 2\n",
        "rB  = rA + l1*ehat2     # Position of end of link 3\n",
        "rC  = rB + l2*ehat3     # Position of end of link 3\n",
        "rD  = rC + 0.5*l3*ehat4     # Position of Heel\n",
        "rE  = rC + 0.5*l3*ehat5     # Position of Toe\n",
        "\n",
        "rcb  = r0 # COM of base\n",
        "rc1 = rA + c1*ehat2          # Position of link 1 CoM\n",
        "rc2 = rB + c2*ehat3     # Position of CoM of link 2\n",
        "rc3 = rC     # Position of CoM of link 3\n",
        "\n",
        "\n",
        "# linear and angular velocity of each link\n",
        "vcb = ddt(rcb)\n",
        "vc1 = ddt(rc1)          # Velocity of link 1 CoM\n",
        "vc2 = ddt(rc2)          # Velocity of link 2 CoM\n",
        "vc3 = ddt(rc3)          # Velocity of link 3 CoM\n",
        "\n",
        "keypoints = Matrix([[r0], [rA], [rB], [rC], [rD], [rE]]).reshape(6, 2)\n",
        "keypoints_func = sym.lambdify(zp_params, keypoints)"
      ]
    },
    {
      "cell_type": "code",
      "source": [
        "# hopper robot visualization function:\n",
        "import matplotlib.patches as patches\n",
        "def rotate_rect(rect, angle):\n",
        "    \"\"\"Rotate the given rectangle around its center and return a rotated copy.\n",
        "\n",
        "    angle is given in degrees.\n",
        "    \"\"\"\n",
        "    rect = np.array(rect, dtype=np.float64)\n",
        "    rot_mat = np.array([[np.cos(angle), -np.sin(angle)],\n",
        "                        [np.sin(angle), np.cos(angle)]])\n",
        "    rect_rot = np.dot(rot_mat, rect.T).T\n",
        "    return rect_rot\n",
        "\n",
        "def get_body_points(x, y, angle, body_width, body_height):\n",
        "  body_pts = [[-body_width/2, -body_height/2],\n",
        "              [-body_width/2, body_height/2],\n",
        "              [body_width/2, body_height/2],\n",
        "              [body_width/2, -body_height/2]]\n",
        "  body_pts = rotate_rect(body_pts, angle)\n",
        "  body_pts_full = np.zeros((5, 2))\n",
        "  body_pts[:, 0] += x\n",
        "  body_pts[:, 1] += y\n",
        "  body_pts_full[:4, :] = body_pts\n",
        "  body_pts_full[4, :] = body_pts[0]\n",
        "  return body_pts_full\n",
        "\n",
        "def visualize_robot(result, dt = 0.001, num_frames=200):\n",
        "  keypoints_hist = result['keypoints_hist']\n",
        "  ori_hist = result['ori_hist']\n",
        "  fig= plt.figure(figsize=(10,10))\n",
        "  ax = plt.subplot(1,1,1)\n",
        "  keypoints = keypoints_hist[0]\n",
        "  keypts = keypoints_hist[0]\n",
        "  body_width = 2*np.sqrt((keypts[1, 0] - keypts[0, 0])**2 + (keypts[1, 1] - keypts[0, 1])**2)\n",
        "  body_pts = get_body_points(keypts[0, 0], keypts[0, 1], 0.5, body_width, body_width)\n",
        "  body, = ax.plot(body_pts[:, 0], body_pts[:, 1], 'g', lw=10, alpha=0.3)\n",
        "  bodyCOM, = ax.plot(keypts[0, 0], keypts[0, 1], 'go', alpha=0.5, markersize=20)\n",
        "  link2, = ax.plot([], [], 'r', lw=10, alpha=0.3)\n",
        "  link3, = ax.plot([], [], 'r', lw=10, alpha=0.3)\n",
        "  link4, = ax.plot([], [], 'b', lw=10, alpha=0.3)\n",
        "  ax.hlines(0, -2, 2)\n",
        "  txt_title = ax.set_title('')\n",
        "  ax.set_xlim(( -2, 2))\n",
        "  ax.set_ylim((-1, 3))\n",
        "  txt_title = ax.set_title('')\n",
        "  interval = len(keypoints_hist)//num_frames\n",
        "\n",
        "  def drawFrame(k):\n",
        "    k = interval*k\n",
        "    keypts = keypoints_hist[k]\n",
        "    body_pts = get_body_points(keypts[0, 0], keypts[0, 1], ori_hist[k], body_width, body_width)\n",
        "    body.set_data(body_pts[:, 0], body_pts[:, 1])\n",
        "    bodyCOM.set_data(keypts[0, 0], keypts[0, 1])\n",
        "    x1 = keypts[1, 0]\n",
        "    x2 = keypts[2, 0]\n",
        "    y1 = keypts[1, 1]\n",
        "    y2 = keypts[2, 1]\n",
        "    link2.set_data([x1, x2], [y1, y2])\n",
        "    x1 = keypts[2, 0]\n",
        "    x2 = keypts[3, 0]\n",
        "    y1 = keypts[2, 1]\n",
        "    y2 = keypts[3, 1]\n",
        "    link3.set_data([x1, x2], [y1, y2])\n",
        "    x1 = keypts[4, 0]\n",
        "    x2 = keypts[5, 0]\n",
        "    y1 = keypts[4, 1]\n",
        "    y2 = keypts[5, 1]\n",
        "    link4.set_data([x1, x2], [y1, y2])\n",
        "\n",
        "    txt_title.set_text(f't = {dt*k:.2f} sec')\n",
        "    return link2, link3, link4\n",
        "  anim = animation.FuncAnimation(fig, drawFrame, frames=num_frames, interval=interval, blit=True)\n",
        "  return anim"
      ],
      "metadata": {
        "id": "bWysl3YY9h0r"
      },
      "execution_count": null,
      "outputs": []
    },
    {
      "cell_type": "markdown",
      "metadata": {
        "id": "SA39N7MyXS3u"
      },
      "source": [
        "\n",
        "# **Kinetic and Potential Energy of Links**\n"
      ]
    },
    {
      "cell_type": "code",
      "execution_count": null,
      "metadata": {
        "id": "4FOBhUVhKEpo"
      },
      "outputs": [],
      "source": [
        "# Write your code: Kinetic and Potential Energy of floating base\n",
        "\n",
        "Tb = 1/2 * m_body * vcb.dot(vcb) + 1/2 * I_body * dthb*dthb\n",
        "Vb = m_body * g * (rcb.dot(-ghat))\n",
        "\n",
        "# Write your code: Kinetic and Potential Energy of link 1\n",
        "\n",
        "T1 = 1/2 * m1 * vc1.dot(vc1) + 1/2 * I1 * (dthb+dth1)*(dthb+dth1)\n",
        "V1 = m1 * g * (rc1.dot(-ghat))\n",
        "\n",
        "# Write your code: Kinetic and Potential Energy of link 2\n",
        "T2 = 1/2 * m2 * vc2.dot(vc2) + 1/2 * I2 * (dthb+dth1+dth2)*(dthb+dth1+dth2)\n",
        "V2 = m2 * g * rc2.dot(-ghat)\n",
        "\n",
        "# Write your code: Kinetic and Potential Energy of link 3\n",
        "T3 = 1/2 * m3 * vc3.dot(vc3) + 1/2 * I3 * (dthb+dth1-dth2+dth3)*(dthb+dth1+dth2+dth3)\n",
        "V3 = m3 * g * rc3.dot(-ghat)"
      ]
    },
    {
      "cell_type": "markdown",
      "metadata": {
        "id": "XQbqqurzXTfJ"
      },
      "source": [
        "# **Lagrangian and Total Energy (Hamiltonian)**"
      ]
    },
    {
      "cell_type": "code",
      "execution_count": null,
      "metadata": {
        "id": "08QbM8fULVRO"
      },
      "outputs": [],
      "source": [
        "# Write your code: Kinetic, Potential, and total energy of the entire system\n",
        "KE = Tb + T1 + T2 + T3\n",
        "PE = Vb + V1 + V2 + V3\n",
        "E = Matrix([KE + PE])\n",
        "\n",
        "# Write your code: Lagrangian\n",
        "L = Matrix([KE - PE])"
      ]
    },
    {
      "cell_type": "markdown",
      "metadata": {
        "id": "gzkRqvssXUXQ"
      },
      "source": [
        "# **Generalized Forces**\n",
        "\n",
        "The result should be $Q = \\begin{pmatrix}0 & 0 & 0 & \\tau_1 & \\tau_2 & \\tau_3\\end{pmatrix}^{\\top}$."
      ]
    },
    {
      "cell_type": "code",
      "execution_count": null,
      "metadata": {
        "id": "C4I4G0PNMTM7",
        "outputId": "1c640252-4f45-4f15-fe42-3dcfdadcf40a",
        "colab": {
          "base_uri": "https://localhost:8080/"
        }
      },
      "outputs": [
        {
          "output_type": "stream",
          "name": "stdout",
          "text": [
            "Matrix([[0], [0], [0], [tau1], [0], [0]])\n",
            "Matrix([[0], [0], [0], [0], [tau2], [0]])\n",
            "Matrix([[0], [0], [0], [0], [0], [tau3]])\n",
            "Matrix([[0], [0], [0], [tau1], [tau2], [tau3]])\n"
          ]
        }
      ],
      "source": [
        "Q_tau1 = M2Q(tau1,Matrix([dthb + dth1])) + M2Q(-tau1,Matrix([dthb]))\n",
        "Q_tau2 = M2Q(tau2,Matrix([dth2 + dth1 + dthb])) + M2Q(-tau2, Matrix([dth1 + dthb]))\n",
        "Q_tau3 = M2Q(tau3,Matrix([dth3 + dth2 + dth1 + dthb])) + M2Q(-tau3, Matrix([dth1 + dth2 + dthb]))\n",
        "\n",
        "Q = Q_tau1 + Q_tau2 + Q_tau3\n",
        "\n",
        "print(Q_tau1)\n",
        "print(Q_tau2)\n",
        "print(Q_tau3)\n",
        "\n",
        "print(Q)"
      ]
    },
    {
      "cell_type": "markdown",
      "metadata": {
        "id": "bFmw3Qr2XVjm"
      },
      "source": [
        "# **Equations of Motion**"
      ]
    },
    {
      "cell_type": "code",
      "execution_count": null,
      "metadata": {
        "id": "hPlwm5ECQt8x"
      },
      "outputs": [],
      "source": [
        "# Write your code: Find A and b by solving Lagrange's equation\n",
        "dL_dq = L.jacobian(q).transpose()\n",
        "dL_dqd= L.jacobian(dq).transpose()\n",
        "\n",
        "g = ddt(dL_dqd) - dL_dq - Q\n",
        "A = g.jacobian(ddq)\n",
        "b = A*ddq - g\n",
        "grav = (Matrix([PE]).jacobian(q)).transpose()\n",
        "coriolis = (-b -grav  + Q)"
      ]
    },
    {
      "cell_type": "code",
      "source": [
        "JToe = rD.jacobian(q)\n",
        "JToedot = ddt(JToe.reshape(12,1)).reshape(2, 6)\n",
        "\n",
        "JHeel = rE.jacobian(q)\n",
        "JHeeldot = ddt(JHeel.reshape(12,1)).reshape(2, 6)\n",
        "\n",
        "pToe = rD\n",
        "pHeel = rE\n",
        "vToe = JToe*dq\n",
        "vHeel = JHeel*dq"
      ],
      "metadata": {
        "id": "uQk7Pc7SOLtw"
      },
      "execution_count": null,
      "outputs": []
    },
    {
      "cell_type": "markdown",
      "metadata": {
        "id": "_17LJTEOXWVy"
      },
      "source": [
        "# **Helper Functions**"
      ]
    },
    {
      "cell_type": "code",
      "execution_count": null,
      "metadata": {
        "id": "IQbDggpIUySz"
      },
      "outputs": [],
      "source": [
        "# Helper Functions: No need to change\n",
        "A_func = sym.lambdify(zp_params, A)\n",
        "b_func = sym.lambdify(zup_params, b)\n",
        "kinetic_energy_func = sym.lambdify(zp_params, KE)\n",
        "potential_energy_func = sym.lambdify(zp_params, PE)\n",
        "E_func = sym.lambdify(zp_params, E)\n",
        "\n",
        "grav_func = sym.lambdify(zp_params, grav)\n",
        "coriolis_func = sym.lambdify(zp_params, coriolis)\n",
        "\n",
        "# Foot contact position, velocity and jacobian\n",
        "pToe_func = sym.lambdify(zp_params, pToe)\n",
        "vToe_func = sym.lambdify(zp_params, vToe)\n",
        "\n",
        "pHeel_func = sym.lambdify(zp_params, pHeel)\n",
        "vHeel_func = sym.lambdify(zp_params, vHeel)\n",
        "\n",
        "JToe_func = sym.lambdify(zp_params, JToe)\n",
        "JToedot_func = sym.lambdify(zp_params, JToedot)\n",
        "\n",
        "JHeel_func = sym.lambdify(zp_params, JHeel)\n",
        "JHeeldot_func = sym.lambdify(zp_params, JHeeldot)\n"
      ]
    },
    {
      "cell_type": "markdown",
      "metadata": {
        "id": "RdsdtEi8XW0A"
      },
      "source": [
        "#**Dynamics**\n",
        "\n",
        "A dynamics function returning $\\ddot{q}$ by using $A$ and $b$."
      ]
    },
    {
      "cell_type": "code",
      "execution_count": null,
      "metadata": {
        "id": "6ab6Hp4FYbWQ"
      },
      "outputs": [],
      "source": [
        "def dynamics(x, params, u=[0, 0, 0]):\n",
        "  xp_params = list(x) + list(params)\n",
        "  xup_params = list(x) + u + list(params)\n",
        "  A_dyn = A_func(*xp_params)\n",
        "  b_dyn = b_func(*xup_params)\n",
        "\n",
        "  # Write your code: Computer joint acceleration\n",
        "  qdd = np.matmul(np.linalg.pinv(A_dyn), b_dyn)\n",
        "  ddq = qdd.reshape(6)\n",
        "\n",
        "  return ddq"
      ]
    },
    {
      "cell_type": "markdown",
      "source": [
        "# **Contact solver**"
      ],
      "metadata": {
        "id": "gGvQ871k1Yqw"
      }
    },
    {
      "cell_type": "code",
      "source": [
        "def discrete_impact_contact(x, params, rest_coeff, fric_coeff):\n",
        "    xp_params = list(x) + list(params)\n",
        "\n",
        "    x_test = x.copy()\n",
        "    qdot = x[6:].copy()\n",
        "\n",
        "    # EE position and velocity\n",
        "    toe_pos = pToe_func(*xp_params)\n",
        "    toe_vel = vToe_func(*xp_params)\n",
        "    heel_pos = pHeel_func(*xp_params)\n",
        "    heel_vel = vHeel_func(*xp_params)\n",
        "\n",
        "    A = A_func(*xp_params)\n",
        "    Ainv = np.linalg.inv(A)\n",
        "\n",
        "    tol = 1e-4\n",
        "    iter_lim = 20\n",
        "\n",
        "    if (toe_pos[1] < 0 and heel_pos[1]<0):  # ................... Toe & Heel\n",
        "      post_impact_vel = np.zeros([4,1])\n",
        "      post_impact_vel[1] = toe_vel[1]\n",
        "      post_impact_vel[3] = heel_vel[1]\n",
        "\n",
        "      if(toe_vel[1] < 0):\n",
        "        post_impact_vel[1] = -rest_coeff*toe_vel[1]\n",
        "\n",
        "      if(heel_vel[1]<0):\n",
        "        post_impact_vel[3] = -rest_coeff*heel_vel[1]\n",
        "\n",
        "      Jtoe  = JToe_func(*xp_params)\n",
        "      Jheel  = JHeel_func(*xp_params)\n",
        "\n",
        "      Jtoe_x = Jtoe[0, :]\n",
        "      Jtoe_y = Jtoe[1, :]\n",
        "      Jheel_x = Jheel[0,:]\n",
        "      Jheel_y = Jheel[1,:]\n",
        "\n",
        "      lambda_toe_x = 1/(Jtoe_x @ Ainv @ Jtoe_x.T)\n",
        "      lambda_toe_y = 1/(Jtoe_y @ Ainv @ Jtoe_y.T)\n",
        "\n",
        "      lambda_heel_x = 1/(Jheel_x @ Ainv @ Jheel_x.T)\n",
        "      lambda_heel_y = 1/(Jheel_y @ Ainv @ Jheel_y.T)\n",
        "\n",
        "      Ftoe_x_total = 0\n",
        "      Ftoe_y_total = 0\n",
        "\n",
        "      Fheel_x_total = 0\n",
        "      Fheel_y_total = 0\n",
        "\n",
        "      Ftoe_x_inc = 1000\n",
        "      Ftoe_y_inc = 1000\n",
        "\n",
        "      Fheel_x_inc = 1000\n",
        "      Fheel_y_inc = 1000\n",
        "\n",
        "      iter = 0\n",
        "      while(np.abs(Ftoe_y_inc) > tol or np.abs(Fheel_y_inc) > tol):\n",
        "        # Vertical (y): Toe\n",
        "        Ftoe_y_inc = lambda_toe_y * (post_impact_vel[1] - Jtoe_y@qdot)\n",
        "        next_F_toe_y_total = max(0, Ftoe_y_total + Ftoe_y_inc)\n",
        "        Ftoe_y_inc = next_F_toe_y_total - Ftoe_y_total\n",
        "        qdot = qdot + Ainv@(Jtoe_y.T*Ftoe_y_inc)\n",
        "        Ftoe_y_total += Ftoe_y_inc\n",
        "\n",
        "        # Vertical (y): Heel\n",
        "        Fheel_y_inc = lambda_heel_y * (post_impact_vel[3] - Jheel_y@qdot)\n",
        "        next_F_heel_y_total = max(0, Fheel_y_total + Fheel_y_inc)\n",
        "        Fheel_y_inc = next_F_heel_y_total - Fheel_y_total\n",
        "        qdot = qdot + Ainv@(Jheel_y.T*Fheel_y_inc)\n",
        "        Fheel_y_total += Fheel_y_inc\n",
        "\n",
        "        # Horizontal (x): Heel\n",
        "        Fheel_x_inc = lambda_heel_x * (post_impact_vel[2] - Jheel_x@qdot)\n",
        "        next_Fheel_x_total = max(-fric_coeff*Fheel_y_total, min(Fheel_x_total + Fheel_x_inc, fric_coeff*Fheel_y_total))\n",
        "        Fheel_x_inc = next_Fheel_x_total - Fheel_x_total\n",
        "        qdot = qdot + Ainv@(Jheel_x.T*Fheel_x_inc)\n",
        "        Fheel_x_total += Fheel_x_inc\n",
        "\n",
        "        # horizontal (x): Toe\n",
        "        Ftoe_x_inc = lambda_toe_x * (post_impact_vel[0] - Jtoe_x@qdot)\n",
        "        next_Ftoe_x_total = max(-fric_coeff*Ftoe_y_total, min(Ftoe_x_total + Ftoe_x_inc, fric_coeff*Ftoe_y_total))\n",
        "        Ftoe_x_inc = next_Ftoe_x_total - Ftoe_x_total\n",
        "        qdot = qdot + Ainv@(Jtoe_x.T*Ftoe_x_inc)\n",
        "        Ftoe_x_total += Ftoe_x_inc\n",
        "\n",
        "        iter += 1\n",
        "        if(iter > iter_lim):\n",
        "          break\n",
        "\n",
        "    elif(toe_pos[1]<0): # ........................................... Toe\n",
        "      post_impact_vel = np.zeros([2,1])\n",
        "      post_impact_vel[1] = toe_vel[1]\n",
        "      if(toe_vel[1] < 0):\n",
        "        post_impact_vel[1] = -rest_coeff*toe_vel[1]\n",
        "\n",
        "      J  = JToe_func(*xp_params)\n",
        "      J_x = J[0, :]\n",
        "      J_y = J[1, :]\n",
        "      lambda_x = 1/(J_x @ Ainv @ J_x.T)\n",
        "      lambda_y = 1/(J_y @ Ainv @ J_y.T)\n",
        "\n",
        "      Fx_total = 0\n",
        "      Fy_total = 0\n",
        "      Fx_inc = 1000\n",
        "      Fy_inc = 1000\n",
        "\n",
        "      iter = 0\n",
        "      while(np.abs(Fy_inc) > tol):\n",
        "        # vertical (y)\n",
        "        Fy_inc = lambda_y * (post_impact_vel[1] - J_y@qdot)\n",
        "        next_Fy_total = max(0, Fy_total + Fy_inc)\n",
        "        Fy_inc = next_Fy_total - Fy_total\n",
        "        qdot = qdot + Ainv@(J_y.T*Fy_inc)\n",
        "        Fy_total += Fy_inc\n",
        "\n",
        "        # horizontal (y)\n",
        "        Fx_inc = lambda_x * (post_impact_vel[0] - J_x@qdot)\n",
        "        next_Fx_total = max(-fric_coeff*Fy_total, min(Fx_total + Fx_inc, fric_coeff*Fy_total))\n",
        "        Fx_inc = next_Fx_total - Fx_total\n",
        "        qdot = qdot + Ainv@(J_x.T*Fx_inc)\n",
        "        Fx_total += Fx_inc\n",
        "\n",
        "        iter += 1\n",
        "        if(iter > iter_lim):\n",
        "          break\n",
        "\n",
        "    elif(heel_pos[1]<0):             # ...................... Heel only contact\n",
        "      post_impact_vel = np.zeros([2,1])\n",
        "      post_impact_vel[1] = heel_vel[1]\n",
        "      if(heel_vel[1]<0):\n",
        "        post_impact_vel[1] = -rest_coeff*heel_vel[1]\n",
        "\n",
        "      J  = JHeel_func(*xp_params)\n",
        "      J_x = J[0, :]\n",
        "      J_y = J[1, :]\n",
        "      lambda_x = 1/(J_x @ Ainv @ J_x.T)\n",
        "      lambda_y = 1/(J_y @ Ainv @ J_y.T)\n",
        "\n",
        "      Fx_total = 0\n",
        "      Fy_total = 0\n",
        "      Fx_inc = 1000\n",
        "      Fy_inc = 1000\n",
        "\n",
        "      iter = 0\n",
        "      while(np.abs(Fy_inc) > tol):\n",
        "        # vertical (y)\n",
        "        Fy_inc = lambda_y * (post_impact_vel[1] - J_y@qdot)\n",
        "        next_Fy_total = max(0, Fy_total + Fy_inc)\n",
        "        Fy_inc = next_Fy_total - Fy_total\n",
        "        qdot = qdot + Ainv@(J_y.T*Fy_inc)\n",
        "        Fy_total += Fy_inc\n",
        "\n",
        "        # horizontal (y)\n",
        "        Fx_inc = lambda_x * (post_impact_vel[0] - J_x@qdot)\n",
        "        next_Fx_total = max(-fric_coeff*Fy_total, min(Fx_total + Fx_inc, fric_coeff*Fy_total))\n",
        "        Fx_inc = next_Fx_total - Fx_total\n",
        "        qdot = qdot + Ainv@(J_x.T*Fx_inc)\n",
        "        Fx_total += Fx_inc\n",
        "\n",
        "        iter += 1\n",
        "        if(iter > iter_lim):\n",
        "          break\n",
        "\n",
        "    return qdot"
      ],
      "metadata": {
        "id": "2BIkwWJoM2nl"
      },
      "execution_count": null,
      "outputs": []
    },
    {
      "cell_type": "markdown",
      "metadata": {
        "id": "gwMJPpN7h_UC"
      },
      "source": [
        "# **Q1. [10 pts] Complete joint PD controller**\n",
        "\n",
        "Complete joint position feedback controller holding the desired joint position."
      ]
    },
    {
      "cell_type": "code",
      "source": [
        "def joint_pd_controller(x, xdes, params, Kp=100, Kd=5):\n",
        "  # Write your code: Compute torque command using PD feedback cntrol\n",
        "  u = Kp*(xdes[3:6]-x[3:6]) + Kd*(xdes[3+6:]-x[3+6:])\n",
        "  return u.tolist()"
      ],
      "metadata": {
        "id": "FbwZv6mZDVMp"
      },
      "execution_count": null,
      "outputs": []
    },
    {
      "cell_type": "code",
      "source": [
        "# Simulation: No need to change\n",
        "def run_simulation(x0,  x_des_trj, num_step, dt = 0.001,  restitution_coeff = 0.9, friction_coeff = 1.7, ctrl_function = None):\n",
        "  num_step = int(np.floor(tf/dt));\n",
        "  tspan = np.linspace(0, tf, num_step);\n",
        "\n",
        "  x_out = np.zeros((12,num_step+1));\n",
        "  x_out[:,0] = x0;\n",
        "  keypoints_hist = []\n",
        "  ori_hist = []\n",
        "  result = {}\n",
        "  for i in range(num_step):\n",
        "    xp_params = list(x_out[:, i]) + list(params)\n",
        "    keypoints_hist.append(keypoints_func(*xp_params))\n",
        "\n",
        "    u = control_func(x_out[:, i], x_des_trj[:, i], params)\n",
        "\n",
        "    ddq = dynamics(x_out[:,i], params, u);\n",
        "    x_out[6:,i+1] = x_out[6:,i] + ddq*dt;\n",
        "    x = np.zeros(12)\n",
        "\n",
        "    x[:6] = x_out[:6, i]\n",
        "    x[6:] = x_out[6:, i+1]\n",
        "\n",
        "    x_out[6:, i+1] = discrete_impact_contact(x, params, restitution_coeff, friction_coeff)\n",
        "    x_out[:6,i+1] = x_out[:6,i] + x_out[6:,i+1]*dt;\n",
        "    ori_hist.append(x_out[2, i])\n",
        "\n",
        "  result['keypoints_hist'] = keypoints_hist\n",
        "  result['ori_hist'] = ori_hist\n",
        "  return result"
      ],
      "metadata": {
        "id": "Oy3XSHM_esmy"
      },
      "execution_count": null,
      "outputs": []
    },
    {
      "cell_type": "code",
      "execution_count": null,
      "metadata": {
        "id": "Ym_DAl_za8HW"
      },
      "outputs": [],
      "source": [
        "# Run simulation: No need to change\n",
        "x0 = np.array([0, 1.4, 0, 0.8, -1.6, 0.8, 0, 0, 0, 0, 0, 0]).T  # x, y, thb, th1, th2, th3, dx, dy, dthb, dth1, dth2, dth3\n",
        "dt = 0.001\n",
        "tf = 2.0\n",
        "num_step = int(np.floor(tf/dt));\n",
        "ts = np.linspace(0, tf, num_step)\n",
        "\n",
        "num_step = int(np.floor(tf/dt));\n",
        "x_des_trj = np.zeros((12, num_step))\n",
        "x_des_trj[1, :] = x0[1]\n",
        "x_des_trj[3, :] = x0[3] # Hip\n",
        "x_des_trj[4, :] = x0[4] # Knee\n",
        "x_des_trj[5, :] = x0[5] # Ankle\n",
        "\n",
        "\n",
        "control_func = lambda x, xdes, params : joint_pd_controller(x, xdes, params, Kp=250, Kd=10)\n",
        "\n",
        "result_joint = run_simulation(x0,  x_des_trj, num_step, dt = dt, restitution_coeff = 0.0, friction_coeff = 0.7, ctrl_function = None)"
      ]
    },
    {
      "cell_type": "code",
      "source": [
        "anim = visualize_robot(result_joint, dt = 0.001, num_frames=100)\n",
        "plt.close()\n",
        "HTML(anim.to_html5_video())\n",
        "\n",
        "writervideo = animation.FFMpegWriter(fps=60)\n",
        "anim.save('robot_drop_jpos.mp4', writer=writervideo)\n"
      ],
      "metadata": {
        "id": "pW4SFtSFkKAP",
        "outputId": "8e68ee43-90db-447c-ee4b-9c9af35c2e25",
        "colab": {
          "base_uri": "https://localhost:8080/"
        }
      },
      "execution_count": null,
      "outputs": [
        {
          "output_type": "stream",
          "name": "stderr",
          "text": [
            "<ipython-input-6-98053b767229>:53: MatplotlibDeprecationWarning: Setting data with a non sequence type is deprecated since 3.7 and will be remove two minor releases later\n",
            "  bodyCOM.set_data(keypts[0, 0], keypts[0, 1])\n",
            "<ipython-input-6-98053b767229>:53: MatplotlibDeprecationWarning: Setting data with a non sequence type is deprecated since 3.7 and will be remove two minor releases later\n",
            "  bodyCOM.set_data(keypts[0, 0], keypts[0, 1])\n",
            "<ipython-input-6-98053b767229>:53: MatplotlibDeprecationWarning: Setting data with a non sequence type is deprecated since 3.7 and will be remove two minor releases later\n",
            "  bodyCOM.set_data(keypts[0, 0], keypts[0, 1])\n"
          ]
        }
      ]
    },
    {
      "cell_type": "code",
      "source": [
        "keypoint_hist_np = np.array(result_joint['keypoints_hist'])\n",
        "\n",
        "print()\n",
        "ax = plt.subplot()\n",
        "\n",
        "ax.plot(ts, keypoint_hist_np[:, 0, 0], label='body x')\n",
        "ax.plot(ts, keypoint_hist_np[:, 0, 1], label='body y')\n",
        "ax.plot(ts, result_joint['ori_hist'], label='body theta')\n",
        "ax.legend()\n",
        "plt.show()"
      ],
      "metadata": {
        "id": "aLCR3QG_kVPi",
        "outputId": "33d8282a-8b44-418f-a8e2-0627944cc120",
        "colab": {
          "base_uri": "https://localhost:8080/",
          "height": 283
        }
      },
      "execution_count": null,
      "outputs": [
        {
          "output_type": "stream",
          "name": "stdout",
          "text": [
            "\n"
          ]
        },
        {
          "output_type": "display_data",
          "data": {
            "text/plain": [
              "<Figure size 432x288 with 1 Axes>"
            ],
            "image/png": "[encoded data removed]"
          },
          "metadata": {
            "needs_background": "light"
          }
        }
      ]
    },
    {
      "cell_type": "markdown",
      "source": [
        "# **Q2. Wholebody control**\n",
        "\n",
        "Now we will implement body position and orientation controller using whole-body control formulation. Whole-body control consists of three parts.\n",
        "\n",
        "The first part is the $\\ddot{q}_{\\rm cmd}$ computation. Keep it in mind that the dimension of $\\ddot{q}_{\\rm cmd}$ is 6, including 3-dim floating base (virtual joint) and 3 actuated joints. To compute $\\ddot{q}_{\\rm cmd}$, we have to use the following equation with a null-space projection matrix:\n",
        "\n",
        "\\begin{equation}\n",
        "\\ddot{q}_{\\rm cmd} = \\overline{J_{\\rm body} N_c} \\ddot{x}_{\\rm body},\n",
        "\\end{equation}\n",
        "\n",
        "where $J_{\\rm body}$ is the Jacobian of the body link and $\\ddot{x}_{\\rm body}$ is PD feedback control. $N_c$ is a null space projection matrix, which is defined by $I - \\overline{J}_c J_c$. Note that you have to use dynamically consistent pseudo inverse.\n",
        "\n",
        "\\\\\n",
        "\n",
        "The next step is finding reaction forces satisfying unilateral constraints and friction cone constraints. To find the reaction force, you have to solve the following optimization problem:\n",
        "\n",
        "\\begin{align}\n",
        "& \\underset{\\Delta\\ddot{\\mathbf{q}},  \\mathbf{fr}}{min}\\  ||\\Delta\\ddot{\\mathbf{q}}||_{Q_q} + ||\\mathbf{f_r}||_{Q_{fr}} \\\\\n",
        "s.t & \\\\\n",
        "& S\\left( \\mathbf{A}\\begin{pmatrix} \\ddot{\\mathbf{q}}_{\\rm body} + \\Delta \\ddot{\\mathbf{q}} \\\\ \\ddot{\\mathbf{q}}_{\\rm joint} \\end{pmatrix}+ \\mathbf{b} + \\mathbf{g} \\right) = S \\mathbf{J_c}^{\\top}\\mathbf{f_r}, \\\\\n",
        "&\\quad \\mathbf{f}_{r,y}\\ge 0,\\\\\n",
        "&-\\mu \\mathbf{f}_{r,y} \\le \\mathbf{f}_{r,x}\\le \\mu \\mathbf{f}_{r,y}\n",
        "\\end{align}\n",
        "\n",
        "In the equations, you can see that $\\ddot{q}_{\\rm cmd}$, which is computed in the first step, is separatly described by $\\begin{pmatrix} \\ddot{\\mathbf{q}}_{\\rm body} & \\ddot{\\mathbf{q}}_{\\rm joint} \\end{pmatrix}^{\\top}$, with an extra term, $\\Delta \\ddot{\\mathbf{q}}$. $S$ is a selection matrix choosing only floating base portion of the entire equations of motion. In this system,\n",
        "$S = \\begin{pmatrix}\n",
        "1 & 0 & 0 & 0 & 0 & 0\\\\\n",
        "0 & 1 & 0 & 0 & 0 & 0\\\\\n",
        "0 & 0 & 1 & 0 & 0 & 0\n",
        "\\end{pmatrix}$.\n",
        "\n",
        "\\\\\n",
        "\n",
        "The last step is computing the final joint torque command, $\\tau$. At this stage, you should have $\\Delta\\ddot{\\mathbf{q}}$ and $\\mathbf{f_r}$, which are results of optimization. Plugging the results into the equations of motion gives you generalized force:\n",
        "\\begin{equation}\n",
        "Q = \\mathbf{A} \\begin{pmatrix} \\ddot{\\mathbf{q}}_{\\rm body} + \\Delta \\ddot{\\mathbf{q}} \\\\ \\ddot{\\mathbf{q}}_{\\rm joint} \\end{pmatrix}+ \\mathbf{b} + \\mathbf{g} - \\mathbf{J_c}^{\\top} \\mathbf{f_r}.\n",
        "\\end{equation}\n",
        "\n",
        "The first three terms of $Q$ are for floating base (virtual joint). Therefore, taking the last three of $Q$ will give you the joint torque command for three actuated joints.  \n",
        "\n",
        "\\\\\n",
        "You can refer the following papers for better understanding of whole-body control:\n",
        "\n",
        "[1] D. Kim, J. Lee, J. Ahn, O. Campbell, H. Hwang, and L. Sentis, “Computationally-Robust and Efficient Prioritized Whole-Body Controller with Contact Constraints,” 2018. doi: 10.1109/iros.2018.8593767.\n",
        "  "
      ],
      "metadata": {
        "id": "bLNUSbFygAXG"
      }
    },
    {
      "cell_type": "code",
      "source": [
        "from casadi import *\n",
        "import warnings\n",
        "warnings.filterwarnings(\"ignore\", category=np.VisibleDeprecationWarning)"
      ],
      "metadata": {
        "id": "3ixEqrG_Xqz2"
      },
      "execution_count": null,
      "outputs": []
    },
    {
      "cell_type": "code",
      "source": [
        "def dyn_psudoInv(J, Ainv):\n",
        "  lamdainv = J@Ainv@J.T\n",
        "  lamda = np.linalg.pinv(lamdainv)\n",
        "  return Ainv@J.T@lamda"
      ],
      "metadata": {
        "id": "CSLCpbe0nk-p"
      },
      "execution_count": null,
      "outputs": []
    },
    {
      "cell_type": "code",
      "source": [
        "def whole_body_controller_qp(x, xdes, params, Kp=100, Kd=5):\n",
        "  # Body posture feedback control\n",
        "  xdd_des = Kp*(xdes[:3]-x[:3]) + Kd*(xdes[3:6]-x[6:9])\n",
        "\n",
        "  xp_params = list(x) + params\n",
        "  Jt = JToe_func(*xp_params)# toe jacobian\n",
        "  Jh = JHeel_func(*xp_params) # heel jacobian\n",
        "  Jc = np.zeros((4, 6)) # contact jacobian\n",
        "  Jc[:2, :] = Jt\n",
        "  Jc[2:, :] = Jh\n",
        "\n",
        "  Jbody = np.zeros((3, 6))\n",
        "  Jbody[:3, :3] = np.eye(3)\n",
        "\n",
        "  A = A_func(*xp_params)\n",
        "  cori = coriolis_func(*xp_params)\n",
        "  grav = grav_func(*xp_params)\n",
        "  Ainv = np.linalg.inv(A)\n",
        "\n",
        "  # Write your code: Compute qdd_cmd (30 pts)\n",
        "  Nc = np.eye(6) - dyn_psudoInv(Jc, Ainv)@Jc\n",
        "  JbodyNc = Jbody@Nc\n",
        "  JbodyNc_bar = dyn_psudoInv(JbodyNc, Ainv)\n",
        "  qdd_cmd =  JbodyNc_bar @ xdd_des\n",
        "\n",
        "  # Optimization (40 pts)\n",
        "  opti = casadi.Opti()\n",
        "  qdd_delta = opti.variable(3)\n",
        "  fr = opti.variable(4)\n",
        "\n",
        "  Q_q = np.diag(np.array([1000, 1000, 1000]))\n",
        "  Q_fr = np.diag(np.array([0.5, 0.001, 0.5, 0.001]))\n",
        "\n",
        "  ftoe = fr[:2]\n",
        "  fheel = fr[2:]\n",
        "  mu = 0.6\n",
        "  S = np.zeros((3,6))\n",
        "  S[:, :3] = np.eye(3)\n",
        "\n",
        "  # Write your code: Define cost function that we want to minimize\n",
        "  cost  = (qdd_delta).T@Q_q@(qdd_delta)\n",
        "  cost  += fr.T@Q_fr@fr\n",
        "\n",
        "  opti.minimize(cost)\n",
        "  # Write your code: floating based dynamics constraint\n",
        "  # Hint: use the syntax, opti.subject_to( A == B)\n",
        "  opti.subject_to(S@(A@(qdd_cmd + S.T@qdd_delta) + cori + grav)  == S@Jc.T@fr)\n",
        "\n",
        "  # Write your code: complete unilateral constraint\n",
        "  # (e.g., opti.subject_to(ftoe[1] > 0) )\n",
        "  opti.subject_to(ftoe[1] > 0)\n",
        "  opti.subject_to(fheel[1] > 0)\n",
        "  opti.subject_to(ftoe[1] <= 200)\n",
        "  opti.subject_to(fheel[1] <= 200)\n",
        "\n",
        "  # Write your code: friction constraints\n",
        "  opti.subject_to(ftoe[0] <=  mu*ftoe[1])\n",
        "  opti.subject_to(ftoe[0] >= -mu*ftoe[1])\n",
        "\n",
        "  opti.subject_to(fheel[0] <= mu*fheel[1])\n",
        "  opti.subject_to(fheel[0] >= -mu*fheel[1])\n",
        "\n",
        "  # p_opts = {\"expand\":True, 'ipopt.print_level':2, 'print_time':2}\n",
        "  p_opts = {\"expand\":True, 'ipopt.print_level':0, 'print_time':0}\n",
        "  s_opts = {\"max_iter\": 300}\n",
        "\n",
        "  opti.solver('ipopt', p_opts, s_opts)\n",
        "  sol = opti.solve()\n",
        "\n",
        "\n",
        "  # Compute torque command from the optimization solution (20 pts)\n",
        "  fr_sol = sol.value(fr)\n",
        "  qdd_delta_sol = sol.value(qdd_delta)\n",
        "\n",
        "  Q_ext = Jc.T@fr_sol\n",
        "  qdd_fin = qdd_cmd.reshape(6,1) + S.T@qdd_delta_sol.reshape(3,1)\n",
        "\n",
        "  Q = A@qdd_fin + cori + grav -  Q_ext.reshape(6,1)\n",
        "\n",
        "  tau = [Q[3], Q[4], Q[5]]\n",
        "\n",
        "  return tau"
      ],
      "metadata": {
        "id": "5RPp8oY_n0QX"
      },
      "execution_count": null,
      "outputs": []
    },
    {
      "cell_type": "code",
      "source": [
        "# Run simulation: No need to change\n",
        "x0 = np.array([0, 1.15, 0, 0.8, -1.6, 0.8, 0, 0, 0, 0, 0, 0]).T  # x, y, thb, th1, th2, th3, dx, dy, dthb, dth1, dth2, dth3\n",
        "dt = 0.001\n",
        "tf = 2.0\n",
        "num_step = int(np.floor(tf/dt));\n",
        "ts = np.linspace(0, tf, num_step)\n",
        "\n",
        "a = 0.1\n",
        "omega = 2*np.pi*1\n",
        "x_des_trj = np.zeros((12, num_step))\n",
        "h0 = x0[1]\n",
        "\n",
        "# Position reference (y)\n",
        "x_des_trj[1, :] = h0 + a*np.sin(omega*ts)\n",
        "\n",
        "\n",
        "control_func = lambda x, xdes, params : whole_body_controller_qp(x, xdes, params, Kp=150, Kd=4)\n",
        "result_wbc = run_simulation(x0,  x_des_trj, num_step, dt = dt, restitution_coeff = 0.0, friction_coeff = 1.0, ctrl_function = None)"
      ],
      "metadata": {
        "id": "fN3c9LBKqLUq",
        "outputId": "d298341d-a268-4795-86f7-ca8c2ef8beb2",
        "colab": {
          "base_uri": "https://localhost:8080/"
        }
      },
      "execution_count": null,
      "outputs": [
        {
          "output_type": "stream",
          "name": "stdout",
          "text": [
            "\n",
            "******************************************************************************\n",
            "This program contains Ipopt, a library for large-scale nonlinear optimization.\n",
            " Ipopt is released as open source code under the Eclipse Public License (EPL).\n",
            "         For more information visit https://github.com/coin-or/Ipopt\n",
            "******************************************************************************\n",
            "\n"
          ]
        }
      ]
    },
    {
      "cell_type": "code",
      "source": [
        "keypoint_hist_np = np.array(result_wbc['keypoints_hist'])\n",
        "print()\n",
        "ax = plt.subplot()\n",
        "ax.plot(ts, keypoint_hist_np[:, 0, 0], label='body x')\n",
        "ax.plot(ts, keypoint_hist_np[:, 0, 1], label='body y')\n",
        "ax.plot(ts, result_wbc['ori_hist'], label='body theta')\n",
        "ax.plot(ts, x_des_trj[0, :], '--', label='body x des')\n",
        "ax.plot(ts, x_des_trj[1, :], '--', label='body y des')\n",
        "ax.plot(ts, x_des_trj[2, :], '--', label='body theta des')\n",
        "\n",
        "\n",
        "ax.legend()\n",
        "plt.show()"
      ],
      "metadata": {
        "id": "hB6vkTOzs4fY",
        "outputId": "8e4cc6e8-2f41-4735-fe8d-33512c2f626c",
        "colab": {
          "base_uri": "https://localhost:8080/",
          "height": 447
        }
      },
      "execution_count": null,
      "outputs": [
        {
          "output_type": "stream",
          "name": "stdout",
          "text": [
            "\n"
          ]
        },
        {
          "output_type": "display_data",
          "data": {
            "text/plain": [
              "<Figure size 640x480 with 1 Axes>"
            ],
            "image/png": "[encoded data removed]"
          },
          "metadata": {}
        }
      ]
    },
    {
      "cell_type": "code",
      "source": [
        "anim = visualize_robot(result_wbc, dt = 0.001, num_frames=100)\n",
        "plt.close()\n",
        "HTML(anim.to_html5_video())\n",
        "\n",
        "\n",
        "writervideo = animation.FFMpegWriter(fps=60)\n",
        "anim.save('body_ctrl.mp4', writer=writervideo)"
      ],
      "metadata": {
        "id": "v4lbq9Lns6yN",
        "outputId": "14d7e237-8df3-47ce-8857-b3d09aa2d75d",
        "colab": {
          "base_uri": "https://localhost:8080/"
        }
      },
      "execution_count": null,
      "outputs": [
        {
          "output_type": "stream",
          "name": "stderr",
          "text": [
            "<ipython-input-6-98053b767229>:53: MatplotlibDeprecationWarning: Setting data with a non sequence type is deprecated since 3.7 and will be remove two minor releases later\n",
            "  bodyCOM.set_data(keypts[0, 0], keypts[0, 1])\n",
            "<ipython-input-6-98053b767229>:53: MatplotlibDeprecationWarning: Setting data with a non sequence type is deprecated since 3.7 and will be remove two minor releases later\n",
            "  bodyCOM.set_data(keypts[0, 0], keypts[0, 1])\n",
            "<ipython-input-6-98053b767229>:53: MatplotlibDeprecationWarning: Setting data with a non sequence type is deprecated since 3.7 and will be remove two minor releases later\n",
            "  bodyCOM.set_data(keypts[0, 0], keypts[0, 1])\n"
          ]
        }
      ]
    }
  ],
  "metadata": {
    "colab": {
      "collapsed_sections": [
        "TudhnMg3XEmg",
        "NpkdPb_oXL-b",
        "SA39N7MyXS3u",
        "XQbqqurzXTfJ",
        "gzkRqvssXUXQ",
        "lfVKtJW0XU_j"
      ],
      "provenance": [],
      "include_colab_link": true
    },
    "kernelspec": {
      "display_name": "Python 3 (ipykernel)",
      "language": "python",
      "name": "python3"
    },
    "language_info": {
      "codemirror_mode": {
        "name": "ipython",
        "version": 3
      },
      "file_extension": ".py",
      "mimetype": "text/x-python",
      "name": "python",
      "nbconvert_exporter": "python",
      "pygments_lexer": "ipython3",
      "version": "3.8.13"
    }
  },
  "nbformat": 4,
  "nbformat_minor": 0
}